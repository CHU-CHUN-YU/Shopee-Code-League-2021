{
 "cells": [
  {
   "cell_type": "code",
   "execution_count": 199,
   "metadata": {},
   "outputs": [
    {
     "data": {
      "text/plain": [
       "'C:\\\\Users\\\\user\\\\Desktop'"
      ]
     },
     "execution_count": 199,
     "metadata": {},
     "output_type": "execute_result"
    }
   ],
   "source": [
    "import csv\n",
    "import pandas as pd\n",
    "import numpy as np\n",
    "import os\n",
    "import calendar\n",
    "import matplotlib.pyplot as plt\n",
    "from datetime import datetime\n",
    "import pickle\n",
    "import json\n",
    "\n",
    "os.getcwd()"
   ]
  },
  {
   "cell_type": "code",
   "execution_count": 200,
   "metadata": {},
   "outputs": [],
   "source": [
    "df=pd.read_json (r'contacts.json')"
   ]
  },
  {
   "cell_type": "code",
   "execution_count": 201,
   "metadata": {
    "scrolled": false
   },
   "outputs": [
    {
     "data": {
      "text/html": [
       "<div>\n",
       "<style scoped>\n",
       "    .dataframe tbody tr th:only-of-type {\n",
       "        vertical-align: middle;\n",
       "    }\n",
       "\n",
       "    .dataframe tbody tr th {\n",
       "        vertical-align: top;\n",
       "    }\n",
       "\n",
       "    .dataframe thead th {\n",
       "        text-align: right;\n",
       "    }\n",
       "</style>\n",
       "<table border=\"1\" class=\"dataframe\">\n",
       "  <thead>\n",
       "    <tr style=\"text-align: right;\">\n",
       "      <th></th>\n",
       "      <th>Id</th>\n",
       "      <th>Email</th>\n",
       "      <th>Phone</th>\n",
       "      <th>Contacts</th>\n",
       "      <th>OrderId</th>\n",
       "    </tr>\n",
       "  </thead>\n",
       "  <tbody>\n",
       "    <tr>\n",
       "      <th>0</th>\n",
       "      <td>0</td>\n",
       "      <td>gkzAbIy@qq.com</td>\n",
       "      <td></td>\n",
       "      <td>1</td>\n",
       "      <td></td>\n",
       "    </tr>\n",
       "    <tr>\n",
       "      <th>1</th>\n",
       "      <td>1</td>\n",
       "      <td></td>\n",
       "      <td>329442681752</td>\n",
       "      <td>4</td>\n",
       "      <td>vDDJJcxfLtSfkooPhbYnJdxov</td>\n",
       "    </tr>\n",
       "    <tr>\n",
       "      <th>2</th>\n",
       "      <td>2</td>\n",
       "      <td></td>\n",
       "      <td>9125983679</td>\n",
       "      <td>0</td>\n",
       "      <td></td>\n",
       "    </tr>\n",
       "    <tr>\n",
       "      <th>3</th>\n",
       "      <td>3</td>\n",
       "      <td>mdllpYmE@gmail.com</td>\n",
       "      <td></td>\n",
       "      <td>0</td>\n",
       "      <td>bHquEnCbbsGLqllwryxPsNOxa</td>\n",
       "    </tr>\n",
       "    <tr>\n",
       "      <th>4</th>\n",
       "      <td>4</td>\n",
       "      <td></td>\n",
       "      <td>300364407</td>\n",
       "      <td>2</td>\n",
       "      <td></td>\n",
       "    </tr>\n",
       "  </tbody>\n",
       "</table>\n",
       "</div>"
      ],
      "text/plain": [
       "   Id               Email         Phone  Contacts                    OrderId\n",
       "0   0      gkzAbIy@qq.com                       1                           \n",
       "1   1                      329442681752         4  vDDJJcxfLtSfkooPhbYnJdxov\n",
       "2   2                        9125983679         0                           \n",
       "3   3  mdllpYmE@gmail.com                       0  bHquEnCbbsGLqllwryxPsNOxa\n",
       "4   4                         300364407         2                           "
      ]
     },
     "execution_count": 201,
     "metadata": {},
     "output_type": "execute_result"
    }
   ],
   "source": [
    "df.head()"
   ]
  },
  {
   "cell_type": "code",
   "execution_count": 202,
   "metadata": {
    "scrolled": false
   },
   "outputs": [
    {
     "name": "stderr",
     "output_type": "stream",
     "text": [
      "C:\\Users\\user\\anaconda3\\lib\\site-packages\\ipykernel_launcher.py:4: SettingWithCopyWarning: \n",
      "A value is trying to be set on a copy of a slice from a DataFrame.\n",
      "Try using .loc[row_indexer,col_indexer] = value instead\n",
      "\n",
      "See the caveats in the documentation: https://pandas.pydata.org/pandas-docs/stable/user_guide/indexing.html#returning-a-view-versus-a-copy\n",
      "  after removing the cwd from sys.path.\n"
     ]
    }
   ],
   "source": [
    "df_email_id=df[['Id','Email']]\n",
    "df_email_id=df_email_id.replace('', np.nan)\n",
    "df_email_id_no_nan=df_email_id.dropna(axis=0)\n",
    "df_email_id_no_nan['Email']=df_email_id_no_nan['Email'].str.lower()"
   ]
  },
  {
   "cell_type": "code",
   "execution_count": 204,
   "metadata": {},
   "outputs": [],
   "source": [
    "df_email_id_no_nan = df_email_id_no_nan.sort_values('Email')\n",
    "\n",
    "m=df_email_id_no_nan.groupby('Email')['Id'].apply(list)\n",
    "\n",
    "for i in range(len(m)):\n",
    "    m[i].sort()\n",
    "email=m.reset_index(name='new1')"
   ]
  },
  {
   "cell_type": "code",
   "execution_count": 205,
   "metadata": {
    "scrolled": true
   },
   "outputs": [
    {
     "data": {
      "text/html": [
       "<div>\n",
       "<style scoped>\n",
       "    .dataframe tbody tr th:only-of-type {\n",
       "        vertical-align: middle;\n",
       "    }\n",
       "\n",
       "    .dataframe tbody tr th {\n",
       "        vertical-align: top;\n",
       "    }\n",
       "\n",
       "    .dataframe thead th {\n",
       "        text-align: right;\n",
       "    }\n",
       "</style>\n",
       "<table border=\"1\" class=\"dataframe\">\n",
       "  <thead>\n",
       "    <tr style=\"text-align: right;\">\n",
       "      <th></th>\n",
       "      <th>Email</th>\n",
       "      <th>new1</th>\n",
       "    </tr>\n",
       "  </thead>\n",
       "  <tbody>\n",
       "    <tr>\n",
       "      <th>0</th>\n",
       "      <td>aaafcfltknovwtbj@qq.com</td>\n",
       "      <td>[30923]</td>\n",
       "    </tr>\n",
       "    <tr>\n",
       "      <th>1</th>\n",
       "      <td>aaagrssxm@hotmail.com</td>\n",
       "      <td>[380486]</td>\n",
       "    </tr>\n",
       "    <tr>\n",
       "      <th>2</th>\n",
       "      <td>aaagyktteojasn@qq.com</td>\n",
       "      <td>[338154]</td>\n",
       "    </tr>\n",
       "    <tr>\n",
       "      <th>3</th>\n",
       "      <td>aaaikbdgcuoiifqr@hotmail.com</td>\n",
       "      <td>[412453]</td>\n",
       "    </tr>\n",
       "    <tr>\n",
       "      <th>4</th>\n",
       "      <td>aaaikdlzsjilbngdmqlc@yahoo.com</td>\n",
       "      <td>[31603, 74652]</td>\n",
       "    </tr>\n",
       "    <tr>\n",
       "      <th>...</th>\n",
       "      <td>...</td>\n",
       "      <td>...</td>\n",
       "    </tr>\n",
       "    <tr>\n",
       "      <th>249151</th>\n",
       "      <td>zzzrxmjpujjtv@yahoo.com</td>\n",
       "      <td>[159037, 302853]</td>\n",
       "    </tr>\n",
       "    <tr>\n",
       "      <th>249152</th>\n",
       "      <td>zzzsqjikrqnmjnrvfjr@hotmail.com</td>\n",
       "      <td>[306427]</td>\n",
       "    </tr>\n",
       "    <tr>\n",
       "      <th>249153</th>\n",
       "      <td>zzzuuhtfrgjzj@qq.com</td>\n",
       "      <td>[135275]</td>\n",
       "    </tr>\n",
       "    <tr>\n",
       "      <th>249154</th>\n",
       "      <td>zzzxlvkuu@yahoo.com</td>\n",
       "      <td>[242088]</td>\n",
       "    </tr>\n",
       "    <tr>\n",
       "      <th>249155</th>\n",
       "      <td>zzzyncklltgpklwetudk@hotmail.com</td>\n",
       "      <td>[176714, 322854]</td>\n",
       "    </tr>\n",
       "  </tbody>\n",
       "</table>\n",
       "<p>249156 rows × 2 columns</p>\n",
       "</div>"
      ],
      "text/plain": [
       "                                   Email              new1\n",
       "0                aaafcfltknovwtbj@qq.com           [30923]\n",
       "1                  aaagrssxm@hotmail.com          [380486]\n",
       "2                  aaagyktteojasn@qq.com          [338154]\n",
       "3           aaaikbdgcuoiifqr@hotmail.com          [412453]\n",
       "4         aaaikdlzsjilbngdmqlc@yahoo.com    [31603, 74652]\n",
       "...                                  ...               ...\n",
       "249151           zzzrxmjpujjtv@yahoo.com  [159037, 302853]\n",
       "249152   zzzsqjikrqnmjnrvfjr@hotmail.com          [306427]\n",
       "249153              zzzuuhtfrgjzj@qq.com          [135275]\n",
       "249154               zzzxlvkuu@yahoo.com          [242088]\n",
       "249155  zzzyncklltgpklwetudk@hotmail.com  [176714, 322854]\n",
       "\n",
       "[249156 rows x 2 columns]"
      ]
     },
     "execution_count": 205,
     "metadata": {},
     "output_type": "execute_result"
    }
   ],
   "source": [
    "email"
   ]
  },
  {
   "cell_type": "markdown",
   "metadata": {},
   "source": [
    "# phone"
   ]
  },
  {
   "cell_type": "code",
   "execution_count": 206,
   "metadata": {},
   "outputs": [
    {
     "name": "stderr",
     "output_type": "stream",
     "text": [
      "C:\\Users\\user\\anaconda3\\lib\\site-packages\\ipykernel_launcher.py:4: SettingWithCopyWarning: \n",
      "A value is trying to be set on a copy of a slice from a DataFrame.\n",
      "Try using .loc[row_indexer,col_indexer] = value instead\n",
      "\n",
      "See the caveats in the documentation: https://pandas.pydata.org/pandas-docs/stable/user_guide/indexing.html#returning-a-view-versus-a-copy\n",
      "  after removing the cwd from sys.path.\n"
     ]
    }
   ],
   "source": [
    "\n",
    "df_Phone_id=df[['Id','Phone']]\n",
    "df_Phone_id=df_Phone_id.replace('', np.nan)\n",
    "df_Phone_id_no_nan=df_Phone_id.dropna(axis=0)\n",
    "df_Phone_id_no_nan['Phone']=df_Phone_id_no_nan['Phone'].str.lower()"
   ]
  },
  {
   "cell_type": "code",
   "execution_count": 207,
   "metadata": {},
   "outputs": [
    {
     "data": {
      "text/html": [
       "<div>\n",
       "<style scoped>\n",
       "    .dataframe tbody tr th:only-of-type {\n",
       "        vertical-align: middle;\n",
       "    }\n",
       "\n",
       "    .dataframe tbody tr th {\n",
       "        vertical-align: top;\n",
       "    }\n",
       "\n",
       "    .dataframe thead th {\n",
       "        text-align: right;\n",
       "    }\n",
       "</style>\n",
       "<table border=\"1\" class=\"dataframe\">\n",
       "  <thead>\n",
       "    <tr style=\"text-align: right;\">\n",
       "      <th></th>\n",
       "      <th>Phone</th>\n",
       "      <th>new2</th>\n",
       "    </tr>\n",
       "  </thead>\n",
       "  <tbody>\n",
       "    <tr>\n",
       "      <th>0</th>\n",
       "      <td>000002957</td>\n",
       "      <td>[318092]</td>\n",
       "    </tr>\n",
       "    <tr>\n",
       "      <th>1</th>\n",
       "      <td>00000837565</td>\n",
       "      <td>[411745]</td>\n",
       "    </tr>\n",
       "    <tr>\n",
       "      <th>2</th>\n",
       "      <td>00001018140</td>\n",
       "      <td>[333273]</td>\n",
       "    </tr>\n",
       "    <tr>\n",
       "      <th>3</th>\n",
       "      <td>0000109887</td>\n",
       "      <td>[170421]</td>\n",
       "    </tr>\n",
       "    <tr>\n",
       "      <th>4</th>\n",
       "      <td>0000211995</td>\n",
       "      <td>[229812, 265783]</td>\n",
       "    </tr>\n",
       "    <tr>\n",
       "      <th>...</th>\n",
       "      <td>...</td>\n",
       "      <td>...</td>\n",
       "    </tr>\n",
       "    <tr>\n",
       "      <th>190672</th>\n",
       "      <td>999972302</td>\n",
       "      <td>[326065]</td>\n",
       "    </tr>\n",
       "    <tr>\n",
       "      <th>190673</th>\n",
       "      <td>999987880646</td>\n",
       "      <td>[37583]</td>\n",
       "    </tr>\n",
       "    <tr>\n",
       "      <th>190674</th>\n",
       "      <td>99999153118</td>\n",
       "      <td>[179194]</td>\n",
       "    </tr>\n",
       "    <tr>\n",
       "      <th>190675</th>\n",
       "      <td>9999969553</td>\n",
       "      <td>[323366, 483731]</td>\n",
       "    </tr>\n",
       "    <tr>\n",
       "      <th>190676</th>\n",
       "      <td>999997713</td>\n",
       "      <td>[283756]</td>\n",
       "    </tr>\n",
       "  </tbody>\n",
       "</table>\n",
       "<p>190677 rows × 2 columns</p>\n",
       "</div>"
      ],
      "text/plain": [
       "               Phone              new2\n",
       "0          000002957          [318092]\n",
       "1        00000837565          [411745]\n",
       "2        00001018140          [333273]\n",
       "3         0000109887          [170421]\n",
       "4         0000211995  [229812, 265783]\n",
       "...              ...               ...\n",
       "190672     999972302          [326065]\n",
       "190673  999987880646           [37583]\n",
       "190674   99999153118          [179194]\n",
       "190675    9999969553  [323366, 483731]\n",
       "190676     999997713          [283756]\n",
       "\n",
       "[190677 rows x 2 columns]"
      ]
     },
     "execution_count": 207,
     "metadata": {},
     "output_type": "execute_result"
    }
   ],
   "source": [
    "df_Phone_id_no_nan = df_Phone_id_no_nan.sort_values('Phone')\n",
    "\n",
    "k=df_Phone_id_no_nan.groupby('Phone')['Id'].apply(list)\n",
    "for i in range(len(k)):\n",
    "    k[i].sort()\n",
    "\n",
    "Phone=k.reset_index(name='new2')\n",
    "Phone\n"
   ]
  },
  {
   "cell_type": "markdown",
   "metadata": {},
   "source": [
    "# order"
   ]
  },
  {
   "cell_type": "code",
   "execution_count": 208,
   "metadata": {},
   "outputs": [
    {
     "name": "stderr",
     "output_type": "stream",
     "text": [
      "C:\\Users\\user\\anaconda3\\lib\\site-packages\\ipykernel_launcher.py:5: SettingWithCopyWarning: \n",
      "A value is trying to be set on a copy of a slice from a DataFrame.\n",
      "Try using .loc[row_indexer,col_indexer] = value instead\n",
      "\n",
      "See the caveats in the documentation: https://pandas.pydata.org/pandas-docs/stable/user_guide/indexing.html#returning-a-view-versus-a-copy\n",
      "  \"\"\"\n"
     ]
    }
   ],
   "source": [
    "df_OrderId_id=df[['Id','OrderId']]\n",
    "df_OrderId=df_OrderId_id.replace('', np.nan)\n",
    "\n",
    "df_OrderId_id_no_nan=df_OrderId.dropna(axis=0)\n",
    "df_OrderId_id_no_nan['OrderId']=df_OrderId_id_no_nan['OrderId'].str.lower()"
   ]
  },
  {
   "cell_type": "code",
   "execution_count": 209,
   "metadata": {},
   "outputs": [
    {
     "data": {
      "text/html": [
       "<div>\n",
       "<style scoped>\n",
       "    .dataframe tbody tr th:only-of-type {\n",
       "        vertical-align: middle;\n",
       "    }\n",
       "\n",
       "    .dataframe tbody tr th {\n",
       "        vertical-align: top;\n",
       "    }\n",
       "\n",
       "    .dataframe thead th {\n",
       "        text-align: right;\n",
       "    }\n",
       "</style>\n",
       "<table border=\"1\" class=\"dataframe\">\n",
       "  <thead>\n",
       "    <tr style=\"text-align: right;\">\n",
       "      <th></th>\n",
       "      <th>OrderId</th>\n",
       "      <th>new3</th>\n",
       "    </tr>\n",
       "  </thead>\n",
       "  <tbody>\n",
       "    <tr>\n",
       "      <th>0</th>\n",
       "      <td>aaabmieiiqielistqreajvaar</td>\n",
       "      <td>[294753, 409041]</td>\n",
       "    </tr>\n",
       "    <tr>\n",
       "      <th>1</th>\n",
       "      <td>aaadcojxvuszlouaswebckidd</td>\n",
       "      <td>[42585]</td>\n",
       "    </tr>\n",
       "    <tr>\n",
       "      <th>2</th>\n",
       "      <td>aaaenqocwnzmepqxrprxkrupz</td>\n",
       "      <td>[469702]</td>\n",
       "    </tr>\n",
       "    <tr>\n",
       "      <th>3</th>\n",
       "      <td>aaairdwwqiacbbahdoymhnvul</td>\n",
       "      <td>[291888, 377351]</td>\n",
       "    </tr>\n",
       "    <tr>\n",
       "      <th>4</th>\n",
       "      <td>aaaljssdwrlviwctcnviizism</td>\n",
       "      <td>[130401, 351722]</td>\n",
       "    </tr>\n",
       "    <tr>\n",
       "      <th>...</th>\n",
       "      <td>...</td>\n",
       "      <td>...</td>\n",
       "    </tr>\n",
       "    <tr>\n",
       "      <th>189297</th>\n",
       "      <td>zzzgrupkrjwuvatucmxuryxtf</td>\n",
       "      <td>[181065]</td>\n",
       "    </tr>\n",
       "    <tr>\n",
       "      <th>189298</th>\n",
       "      <td>zzzgxupfecfxzbxklhpgqrfvd</td>\n",
       "      <td>[313170, 313578]</td>\n",
       "    </tr>\n",
       "    <tr>\n",
       "      <th>189299</th>\n",
       "      <td>zzzhmhpgdnoavqwrxifhnszjf</td>\n",
       "      <td>[43571]</td>\n",
       "    </tr>\n",
       "    <tr>\n",
       "      <th>189300</th>\n",
       "      <td>zzzlfhpjguqlxoqkfpgupdrlg</td>\n",
       "      <td>[193361]</td>\n",
       "    </tr>\n",
       "    <tr>\n",
       "      <th>189301</th>\n",
       "      <td>zzznvphytfggipgbanqozrdiz</td>\n",
       "      <td>[165331, 257474]</td>\n",
       "    </tr>\n",
       "  </tbody>\n",
       "</table>\n",
       "<p>189302 rows × 2 columns</p>\n",
       "</div>"
      ],
      "text/plain": [
       "                          OrderId              new3\n",
       "0       aaabmieiiqielistqreajvaar  [294753, 409041]\n",
       "1       aaadcojxvuszlouaswebckidd           [42585]\n",
       "2       aaaenqocwnzmepqxrprxkrupz          [469702]\n",
       "3       aaairdwwqiacbbahdoymhnvul  [291888, 377351]\n",
       "4       aaaljssdwrlviwctcnviizism  [130401, 351722]\n",
       "...                           ...               ...\n",
       "189297  zzzgrupkrjwuvatucmxuryxtf          [181065]\n",
       "189298  zzzgxupfecfxzbxklhpgqrfvd  [313170, 313578]\n",
       "189299  zzzhmhpgdnoavqwrxifhnszjf           [43571]\n",
       "189300  zzzlfhpjguqlxoqkfpgupdrlg          [193361]\n",
       "189301  zzznvphytfggipgbanqozrdiz  [165331, 257474]\n",
       "\n",
       "[189302 rows x 2 columns]"
      ]
     },
     "execution_count": 209,
     "metadata": {},
     "output_type": "execute_result"
    }
   ],
   "source": [
    "df_OrderId_id_no_nan = df_OrderId_id_no_nan.sort_values('OrderId')\n",
    "l=df_OrderId_id_no_nan.groupby('OrderId')['Id'].apply(list)\n",
    "\n",
    "for i in range(len(l)):\n",
    "    l[i].sort()\n",
    "\n",
    "OrderId=l.reset_index(name='new3')\n",
    "OrderId"
   ]
  },
  {
   "cell_type": "code",
   "execution_count": null,
   "metadata": {},
   "outputs": [],
   "source": [
    "df_email=df.merge(email,on='Email',how='left')"
   ]
  },
  {
   "cell_type": "code",
   "execution_count": 242,
   "metadata": {},
   "outputs": [],
   "source": [
    "df_email_Phone=df_email.merge(Phone,on='Phone',how='left')\n",
    "df_email_Phone_orderid=df_email_Phone.merge(OrderId,on='OrderId',how='left')"
   ]
  },
  {
   "cell_type": "code",
   "execution_count": 389,
   "metadata": {
    "scrolled": true
   },
   "outputs": [
    {
     "name": "stderr",
     "output_type": "stream",
     "text": [
      "C:\\Users\\user\\anaconda3\\lib\\site-packages\\ipykernel_launcher.py:1: SettingWithCopyWarning: \n",
      "A value is trying to be set on a copy of a slice from a DataFrame.\n",
      "Try using .loc[row_indexer,col_indexer] = value instead\n",
      "\n",
      "See the caveats in the documentation: https://pandas.pydata.org/pandas-docs/stable/user_guide/indexing.html#returning-a-view-versus-a-copy\n",
      "  \"\"\"Entry point for launching an IPython kernel.\n"
     ]
    }
   ],
   "source": [
    "d=df_email_Phone_orderid[['new1','new2','new3']]\n",
    "d['combined']= d.values.tolist()"
   ]
  },
  {
   "cell_type": "code",
   "execution_count": 438,
   "metadata": {},
   "outputs": [],
   "source": [
    "# initializing the data and empty list\n",
    "# function\n",
    "def flatten_list(data):\n",
    "    # iterating over the data\n",
    "    for element in data:\n",
    "        # checking for list\n",
    "        if type(element) == list:\n",
    "            # calling the same function with current element as new argument\n",
    "            flatten_list(element)\n",
    "        else:\n",
    "            flat_list.append(element)"
   ]
  },
  {
   "cell_type": "code",
   "execution_count": null,
   "metadata": {
    "scrolled": false
   },
   "outputs": [],
   "source": [
    "# flattening the given list\n",
    "c2_list=[]\n",
    "for i in range(len(d.combined)):\n",
    "    print(i)\n",
    "    flat_list = []\n",
    "    flatten_list(d.combined[i])\n",
    "    c2=flat_list\n",
    "    c2_list.append(c2)"
   ]
  },
  {
   "cell_type": "code",
   "execution_count": 392,
   "metadata": {},
   "outputs": [
    {
     "data": {
      "text/plain": [
       "500000"
      ]
     },
     "execution_count": 392,
     "metadata": {},
     "output_type": "execute_result"
    }
   ],
   "source": [
    "len(c2_list)"
   ]
  },
  {
   "cell_type": "code",
   "execution_count": 394,
   "metadata": {},
   "outputs": [
    {
     "name": "stderr",
     "output_type": "stream",
     "text": [
      "C:\\Users\\user\\anaconda3\\lib\\site-packages\\ipykernel_launcher.py:1: SettingWithCopyWarning: \n",
      "A value is trying to be set on a copy of a slice from a DataFrame.\n",
      "Try using .loc[row_indexer,col_indexer] = value instead\n",
      "\n",
      "See the caveats in the documentation: https://pandas.pydata.org/pandas-docs/stable/user_guide/indexing.html#returning-a-view-versus-a-copy\n",
      "  \"\"\"Entry point for launching an IPython kernel.\n",
      "C:\\Users\\user\\anaconda3\\lib\\site-packages\\ipykernel_launcher.py:2: SettingWithCopyWarning: \n",
      "A value is trying to be set on a copy of a slice from a DataFrame.\n",
      "Try using .loc[row_indexer,col_indexer] = value instead\n",
      "\n",
      "See the caveats in the documentation: https://pandas.pydata.org/pandas-docs/stable/user_guide/indexing.html#returning-a-view-versus-a-copy\n",
      "  \n"
     ]
    }
   ],
   "source": [
    "d[\"c2\"]=0\n",
    "d[\"c2\"]=d[\"c2\"].astype(object)"
   ]
  },
  {
   "cell_type": "code",
   "execution_count": null,
   "metadata": {
    "scrolled": true
   },
   "outputs": [],
   "source": [
    "for i in  range(len(c2_list)):\n",
    "    #print(i)\n",
    "    d[\"c2\"][i]=c2_list[i]"
   ]
  },
  {
   "cell_type": "code",
   "execution_count": 397,
   "metadata": {},
   "outputs": [],
   "source": [
    "df_email_Phone_orderid['c2']=d['c2']\n",
    "d1=df_email_Phone_orderid"
   ]
  },
  {
   "cell_type": "code",
   "execution_count": null,
   "metadata": {},
   "outputs": [],
   "source": [
    "a=d1.c2[0]\n",
    "for i in  range(len(d1.c2)):\n",
    "    #print(i)\n",
    "    if d1[\"c2\"][i]==a:\n",
    "         d1[\"c2\"][i]=d1['Id'][i]\n",
    "    "
   ]
  },
  {
   "cell_type": "code",
   "execution_count": 429,
   "metadata": {},
   "outputs": [],
   "source": [
    "d1['c2_str']=d1.c2.astype(str)\n",
    "total=d1.groupby('c2_str')['Contacts'].transform(sum)\n",
    "d1['total']=total\n",
    "d1_s=d1[['c2','total']]\n",
    "d1['solution']= d1_s.values.tolist()"
   ]
  },
  {
   "cell_type": "code",
   "execution_count": null,
   "metadata": {
    "scrolled": true
   },
   "outputs": [],
   "source": [
    "# flattening the given list\n",
    "s_list=[]\n",
    "for i in range(len(d1.solution)):\n",
    "    #print(i)\n",
    "    flat_list = []\n",
    "    flatten_list(d1.solution[i])\n",
    "    s=flat_list\n",
    "    s_list.append(s)"
   ]
  },
  {
   "cell_type": "code",
   "execution_count": 442,
   "metadata": {},
   "outputs": [],
   "source": [
    "d1[\"ticket_trace/contact\"]=0\n",
    "d1[\"ticket_trace/contact\"]=d1[\"ticket_trace/contact\"].astype(object)\n",
    "for i in  range(len(s_list)):\n",
    "    print(i)\n",
    "    d1[\"ticket_trace/contact\"][i]=s_list[i]"
   ]
  },
  {
   "cell_type": "code",
   "execution_count": 512,
   "metadata": {
    "scrolled": true
   },
   "outputs": [],
   "source": [
    "d2=d1[['Id','ticket_trace/contact']]\n",
    "d2=d2.rename(columns={\"Id\": \"ticket_id\"})"
   ]
  },
  {
   "cell_type": "code",
   "execution_count": 513,
   "metadata": {
    "scrolled": true
   },
   "outputs": [],
   "source": [
    "#d2['ticket_trace/contact']=[str(i).replace(\"[\",\"\") for i in d2['ticket_trace/contact']]\n",
    "#d2['ticket_trace/contact']=[str(i).replace(\"]\",\"\") for i in d2['ticket_trace/contact']]\n",
    "d2['ticket_trace/contact']=[str(i)[::-1].replace(\",\",\"/\",1)[::-1] for i in d2['ticket_trace/contact']]\n",
    "d2['ticket_trace/contact']=[str(i).replace(\"[\",\"\") for i in d2['ticket_trace/contact']]\n",
    "d2['ticket_trace/contact']=[str(i).replace(\"]\",\"\") for i in d2['ticket_trace/contact']]\n",
    "d2['ticket_trace/contact']=[str(i).replace(\", nan\",\"\") for i in d2['ticket_trace/contact']]\n",
    "d2['ticket_trace/contact']=[str(i).replace(\"nan,\",\"\") for i in d2['ticket_trace/contact']]\n",
    "d2['ticket_trace/contact']=[str(i).replace(\",\",\"-\") for i in d2['ticket_trace/contact']]\n",
    "d2['ticket_trace/contact']=[str(i).replace(\"/\",\",\") for i in d2['ticket_trace/contact']]\n",
    "d2['ticket_trace/contact']=[str(i).replace(\" \",\"\") for i in d2['ticket_trace/contact']]"
   ]
  },
  {
   "cell_type": "markdown",
   "metadata": {},
   "source": [
    "# output to csv"
   ]
  },
  {
   "cell_type": "code",
   "execution_count": 515,
   "metadata": {},
   "outputs": [],
   "source": [
    "d2.to_csv(r'd2.csv')"
   ]
  },
  {
   "cell_type": "code",
   "execution_count": null,
   "metadata": {},
   "outputs": [],
   "source": []
  },
  {
   "cell_type": "code",
   "execution_count": null,
   "metadata": {},
   "outputs": [],
   "source": []
  },
  {
   "cell_type": "code",
   "execution_count": null,
   "metadata": {},
   "outputs": [],
   "source": []
  },
  {
   "cell_type": "code",
   "execution_count": null,
   "metadata": {},
   "outputs": [],
   "source": []
  },
  {
   "cell_type": "code",
   "execution_count": null,
   "metadata": {},
   "outputs": [],
   "source": []
  }
 ],
 "metadata": {
  "kernelspec": {
   "display_name": "Python 3",
   "language": "python",
   "name": "python3"
  },
  "language_info": {
   "codemirror_mode": {
    "name": "ipython",
    "version": 3
   },
   "file_extension": ".py",
   "mimetype": "text/x-python",
   "name": "python",
   "nbconvert_exporter": "python",
   "pygments_lexer": "ipython3",
   "version": "3.7.6"
  }
 },
 "nbformat": 4,
 "nbformat_minor": 4
}
